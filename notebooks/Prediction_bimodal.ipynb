{
 "cells": [
  {
   "cell_type": "code",
   "execution_count": 13,
   "id": "d9348b22",
   "metadata": {},
   "outputs": [],
   "source": [
    "import pandas as pd\n",
    "import numpy as np\n",
    "import re\n",
    "import math\n",
    "from tqdm import tqdm\n",
    "\n",
    "import tensorflow as tf\n",
    "from tensorflow.keras.models import Sequential, Model, load_model\n",
    "from tensorflow.keras.layers import (Embedding, Conv1D, GlobalMaxPooling1D, Dense, GRU, Flatten, \n",
    "                                     Dropout, GlobalAveragePooling2D, Conv2D, MaxPooling2D, BatchNormalization, LeakyReLU)\n",
    "from tensorflow.keras.callbacks import EarlyStopping, ModelCheckpoint, ReduceLROnPlateau\n",
    "from tensorflow.keras.optimizers import Adam\n",
    "from tensorflow.keras.utils import to_categorical\n",
    "from tensorflow.keras.preprocessing.text import Tokenizer\n",
    "from tensorflow.keras.preprocessing.sequence import pad_sequences\n",
    "from tensorflow.keras.applications import EfficientNetB1\n",
    "\n",
    "from sklearn.model_selection import train_test_split\n",
    "from sklearn.preprocessing import LabelEncoder\n",
    "from sklearn.metrics import classification_report, confusion_matrix\n",
    "\n",
    "from nltk.tokenize import word_tokenize, RegexpTokenizer\n",
    "from nltk.stem import WordNetLemmatizer, snowball\n",
    "from nltk.corpus import stopwords\n",
    "\n",
    "import pickle"
   ]
  },
  {
   "cell_type": "code",
   "execution_count": 9,
   "id": "e797d21f",
   "metadata": {},
   "outputs": [
    {
     "name": "stdout",
     "output_type": "stream",
     "text": [
      "WARNING:tensorflow:No training configuration found in the save file, so the model was *not* compiled. Compile it manually.\n"
     ]
    }
   ],
   "source": [
    "##Model sur le google drive https://drive.google.com/file/d/1KEyC6HixfbFdhYYxsS4vyi1EJPo85lIH/view?usp=drive_link\n",
    "\n",
    "model = load_model(\"./bimodal.h5\")\n"
   ]
  },
  {
   "cell_type": "code",
   "execution_count": 14,
   "id": "b0c104f0",
   "metadata": {},
   "outputs": [],
   "source": [
    "##Les fichiers pickle sont sur Github, folder data\n",
    "\n",
    "with open(\"label_encoder.pickle\", \"rb\") as handle:\n",
    "    le = pickle.load(handle)"
   ]
  },
  {
   "cell_type": "code",
   "execution_count": 18,
   "id": "9064cf96",
   "metadata": {},
   "outputs": [],
   "source": [
    "with open(\"tokenizer.pickle\", \"rb\") as handle:\n",
    "    tokenizer = pickle.load(handle)\n"
   ]
  },
  {
   "cell_type": "code",
   "execution_count": 10,
   "id": "ebd07e53",
   "metadata": {},
   "outputs": [],
   "source": [
    "image_path=\"./images/images/crop_300_train/image_664491_product_184739.jpg\"\n",
    "text_input='Jeremy Mc Grath Vs Pastrana'"
   ]
  },
  {
   "cell_type": "code",
   "execution_count": 11,
   "id": "d33ca769",
   "metadata": {},
   "outputs": [],
   "source": [
    "def preprocess_image(image_path, resize=(200, 200)):\n",
    "    im = tf.io.read_file(image_path)\n",
    "    im = tf.image.decode_png(im, channels=3)\n",
    "    im = tf.image.resize(im, resize, method='nearest')\n",
    "    return im\n",
    "\n",
    "def preprocess_text(text, tokenizer, max_len=100):\n",
    "    sequence = tokenizer.texts_to_sequences([text])\n",
    "    padded_sequence = pad_sequences(sequence, maxlen=max_len)\n",
    "    return padded_sequence[0]  # Retirer np.expand_dims dans la partie de prédiction"
   ]
  },
  {
   "cell_type": "code",
   "execution_count": 19,
   "id": "d3885d1c",
   "metadata": {},
   "outputs": [],
   "source": [
    "# Prétraitement de l'image et du texte\n",
    "image = preprocess_image(image_path)\n",
    "text = preprocess_text(text_input, tokenizer)"
   ]
  },
  {
   "cell_type": "code",
   "execution_count": 21,
   "id": "68e91e92",
   "metadata": {},
   "outputs": [],
   "source": [
    "# Ajustement de la forme des données pour correspondre à l'entrée du modèle\n",
    "image = np.expand_dims(image, axis=0)  # Ajout d'une dimension pour le batch\n",
    "text = np.expand_dims(text, axis=0)    # Ajout d'une dimension pour le batch"
   ]
  },
  {
   "cell_type": "code",
   "execution_count": 22,
   "id": "7cde64b4",
   "metadata": {},
   "outputs": [
    {
     "name": "stdout",
     "output_type": "stream",
     "text": [
      "1/1 [==============================] - 4s 4s/step\n"
     ]
    }
   ],
   "source": [
    "prediction = model.predict([image, text])"
   ]
  },
  {
   "cell_type": "code",
   "execution_count": 23,
   "id": "53c72d1a",
   "metadata": {},
   "outputs": [],
   "source": [
    "predicted_class = np.argmax(prediction, axis=1)\n",
    "predicted_label = le.inverse_transform(predicted_class)\n"
   ]
  },
  {
   "cell_type": "code",
   "execution_count": 24,
   "id": "74e4132c",
   "metadata": {},
   "outputs": [],
   "source": [
    "def retourner_decription_categorie(categorie):\n",
    "        categories = {\n",
    "            2583: \"Accessoires de piscine\",\n",
    "            1560: \"Mobilier et décoration pour maison\",\n",
    "            1300: \"Modélisme\",\n",
    "            2060: \"Accessoires et décorations pour maison\",\n",
    "            2522: \"Papeterie\",\n",
    "            1280: \"Jouets et peluches enfant\",\n",
    "            2403: \"Livres / Magazines en lots\",\n",
    "            2280: \"Livres documentaires\",\n",
    "            1920: \"Linge de maison\",\n",
    "            1160: \"Jeu de cartes à collectionner\",\n",
    "            1320: \"Puériculture\",\n",
    "            10: \"Littérature étrangère\",\n",
    "            2705: \"Littérature historique\",\n",
    "            1140: \"Figurines\",\n",
    "            2582: \"Accessoires et décorations pour jardin\",\n",
    "            40: \"Jeux vidéo neufs\",\n",
    "            2585: \"Accessoires et outils de jardinage\",\n",
    "            1302: \"Jeux de plein air\",\n",
    "            50: \"Accessoires de gaming\",\n",
    "            2462: \"Jeux vidéos d’occasion\",\n",
    "            2905: \"Jeux vidéo à télécharger\",\n",
    "            60: \"Consoles de jeux vidéo\",\n",
    "            2220: \"Animalerie\",\n",
    "            1301: \"Articles pour nouveaux-nés et bébés\",\n",
    "            1940: \"Épicerie\",\n",
    "            1180: \"Figurines à peindre et à monter\",\n",
    "            1281: \"Jouets et peluches enfant\"\n",
    "        }\n",
    "        if categorie in categories:\n",
    "            return categories[categorie]\n",
    "        else:\n",
    "            return \"Catégorie non trouvée\""
   ]
  },
  {
   "cell_type": "code",
   "execution_count": 25,
   "id": "f8b1d601",
   "metadata": {},
   "outputs": [
    {
     "data": {
      "text/plain": [
       "'Jeux vidéo neufs'"
      ]
     },
     "execution_count": 25,
     "metadata": {},
     "output_type": "execute_result"
    }
   ],
   "source": [
    "retourner_decription_categorie(predicted_label[0])"
   ]
  }
 ],
 "metadata": {
  "kernelspec": {
   "display_name": "Python 3",
   "language": "python",
   "name": "python3"
  },
  "language_info": {
   "codemirror_mode": {
    "name": "ipython",
    "version": 3
   },
   "file_extension": ".py",
   "mimetype": "text/x-python",
   "name": "python",
   "nbconvert_exporter": "python",
   "pygments_lexer": "ipython3",
   "version": "3.9.16"
  }
 },
 "nbformat": 4,
 "nbformat_minor": 5
}
